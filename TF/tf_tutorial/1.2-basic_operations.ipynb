{
 "cells": [
  {
   "cell_type": "markdown",
   "metadata": {
    "collapsed": true
   },
   "source": [
    "### Create Variables"
   ]
  },
  {
   "cell_type": "code",
   "execution_count": null,
   "metadata": {},
   "outputs": [],
   "source": [
    "import tensorflow as tf \n",
    "\n",
    "weights = tf.Variable(tf.random_normal([784, 200], stddev=0.35), name='weights')\n",
    "biases = tf.Variable(tf.zeros([200]), name='biases')\n",
    "\n",
    "# variable initialize\n",
    "init_op = tf.global_variables_initializer()\n",
    "with tf.Session() as sess:\n",
    "    sess.run(init_op)"
   ]
  },
  {
   "cell_type": "markdown",
   "metadata": {},
   "source": [
    "### Initialize variable with other variable"
   ]
  },
  {
   "cell_type": "code",
   "execution_count": null,
   "metadata": {},
   "outputs": [],
   "source": [
    "weights = tf.Variable(tf.random_normal([784, 200], stddev=0.35), name='weights')\n",
    "w2 = tf.Variable(weights.initialized_value(), name='w2')\n",
    "w_twice = tf.Variable(weights.initialized_value() * 0.2, name='w_twice')\n"
   ]
  },
  {
   "cell_type": "markdown",
   "metadata": {},
   "source": [
    "### Variable's Save and Load"
   ]
  },
  {
   "cell_type": "code",
   "execution_count": null,
   "metadata": {},
   "outputs": [],
   "source": [
    "# save variable\n",
    "\n",
    "v1 = tf.Variable(tf.constant([1, 2, 3, 4]), name='v1')\n",
    "v2 = tf.Variable(tf.constant([5, 6, 7, 8]), name='v2')\n",
    "\n",
    "init_op = tf.global_variables_initializer()\n",
    "saver = tf.train.Saver()\n",
    "\n",
    "with tf.Session() as sess:\n",
    "    sess.run(init_op)\n",
    "    \n",
    "    # do some work...\n",
    "    save_path = saver.save(sess, \"/tmp/model.ckpt\")\n",
    "    print(\"model saved in file:\", save_path)\n"
   ]
  },
  {
   "cell_type": "code",
   "execution_count": null,
   "metadata": {},
   "outputs": [],
   "source": [
    "v1 = tf.Variable(tf.random_normal([3, 5], stddev=0.01), name='v1')\n",
    "v2 = tf.Variable(tf.random_normal([2, 4], stddev=0.01), name='v2')\n",
    "\n",
    "saver = tf.train.Saver()\n",
    "\n",
    "with tf.Session() as sess:\n",
    "    saver.restore(sess, \"/tmp/model.ckpt\")\n",
    "    print('model restored')"
   ]
  },
  {
   "cell_type": "code",
   "execution_count": 3,
   "metadata": {},
   "outputs": [
    {
     "name": "stdout",
     "output_type": "stream",
     "text": [
      "8\n"
     ]
    }
   ],
   "source": [
    "import tensorflow as tf \n",
    "\n",
    "a = tf.add(3, 5)\n",
    "\n",
    "with tf.Session() as sess:\n",
    "    print(sess.run(a))"
   ]
  },
  {
   "cell_type": "code",
   "execution_count": 4,
   "metadata": {},
   "outputs": [
    {
     "name": "stdout",
     "output_type": "stream",
     "text": [
      "7776\n"
     ]
    }
   ],
   "source": [
    "import tensorflow as tf \n",
    "\n",
    "x = 2\n",
    "y = 3\n",
    "op1 = tf.add(x, y)\n",
    "op2 = tf.multiply(x, y)\n",
    "op3 = tf.pow(op2, op1)\n",
    "\n",
    "with tf.Session() as sess:\n",
    "    op3 = sess.run(op3)\n",
    "    print(op3)"
   ]
  },
  {
   "cell_type": "code",
   "execution_count": 6,
   "metadata": {},
   "outputs": [
    {
     "name": "stdout",
     "output_type": "stream",
     "text": [
      "z = 15625\nnot_uesless = 10\n"
     ]
    }
   ],
   "source": [
    "import tensorflow as tf\n",
    "\n",
    "x = 2\n",
    "y = 3\n",
    "add_op = tf.add(x, y)\n",
    "mul_op = tf.multiply(x, y)\n",
    "uesless = tf.multiply(x, add_op)\n",
    "pow_op = tf.pow(add_op, mul_op)\n",
    "\n",
    "with tf.Session() as sess:\n",
    "    z, not_useless = sess.run([pow_op, uesless])\n",
    "    \n",
    "    print(\"z = {}\".format(z))\n",
    "    print(\"not_uesless = {}\".format(not_useless))"
   ]
  },
  {
   "cell_type": "code",
   "execution_count": 7,
   "metadata": {},
   "outputs": [
    {
     "name": "stdout",
     "output_type": "stream",
     "text": [
      "[ 6. 10. 12. 12. 10.  6.]\n"
     ]
    }
   ],
   "source": [
    "# Distributed  Computation\n",
    "\n",
    "with tf.device('/gpu:0'):\n",
    "    a = tf.constant([1.0, 2.0, 3.0, 4.0, 5.0, 6.0], name='a')\n",
    "    b = tf.constant([6.0, 5.0, 4.0, 3.0, 2.0, 1.0], name='b')\n",
    "    c = tf.multiply(a, b)\n",
    "    \n",
    "    sess = tf.Session(config=tf.ConfigProto(log_device_placement=True))\n",
    "    print(sess.run(c))"
   ]
  },
  {
   "cell_type": "markdown",
   "metadata": {},
   "source": [
    "### Graph"
   ]
  },
  {
   "cell_type": "code",
   "execution_count": 11,
   "metadata": {},
   "outputs": [
    {
     "name": "stdout",
     "output_type": "stream",
     "text": [
      "8\n"
     ]
    }
   ],
   "source": [
    "# create graph\n",
    "\n",
    "g = tf.Graph()\n",
    "\n",
    "with g.as_default():\n",
    "    x = tf.add(3, 5)\n",
    "    \n",
    "sess = tf.Session(graph=g)\n",
    "print(sess.run(x))\n",
    "\n",
    "sess.close()"
   ]
  },
  {
   "cell_type": "code",
   "execution_count": 12,
   "metadata": {},
   "outputs": [
    {
     "name": "stdout",
     "output_type": "stream",
     "text": [
      "3\n5\n"
     ]
    }
   ],
   "source": [
    "# different graphs\n",
    "\n",
    "g1 = tf.get_default_graph()\n",
    "g2 = tf.Graph()\n",
    "\n",
    "# add ops to the default graph\n",
    "with g1.as_default():\n",
    "    a = tf.constant(3)\n",
    "    \n",
    "# add ops to the user created graph\n",
    "with g2.as_default():\n",
    "    b = tf.constant(5)\n",
    "    \n",
    "with tf.Session(graph=g1) as sess:\n",
    "    print(sess.run(a))\n",
    "    \n",
    "with tf.Session(graph=g2) as sess1:\n",
    "    print(sess1.run(b))"
   ]
  },
  {
   "cell_type": "markdown",
   "metadata": {},
   "source": [
    "### Operations"
   ]
  },
  {
   "cell_type": "code",
   "execution_count": 13,
   "metadata": {},
   "outputs": [
    {
     "name": "stdout",
     "output_type": "stream",
     "text": [
      "5\n"
     ]
    }
   ],
   "source": [
    "import tensorflow as tf \n",
    "\n",
    "a = tf.constant(2)\n",
    "b = tf.constant(3)\n",
    "x = tf.add(a, b)\n",
    "\n",
    "with tf.Session() as sess:\n",
    "    print(sess.run(x))"
   ]
  },
  {
   "cell_type": "markdown",
   "metadata": {},
   "source": [
    "### Tensorboard"
   ]
  },
  {
   "cell_type": "code",
   "execution_count": 15,
   "metadata": {},
   "outputs": [
    {
     "name": "stdout",
     "output_type": "stream",
     "text": [
      "5\n"
     ]
    }
   ],
   "source": [
    "import tensorflow as tf\n",
    "\n",
    "a = tf.constant(2)\n",
    "b = tf.constant(3)\n",
    "x = tf.add(a, b)\n",
    "\n",
    "#writer = tf.summary.FileWriter('./graphs', tf.get_default_graph())\n",
    "\n",
    "with tf.Session() as sess:\n",
    "    writer = tf.summary.FileWriter('F:\\project\\GitHub-Project\\keras-learning-API\\TF\\\\tf_tutorial\\graphs/graphs', sess.graph)\n",
    "    print(sess.run(x))\n",
    "    \n",
    "writer.close()\n",
    "\n",
    "\"\"\"\n",
    "tensorboard --logdir='./graphs' --port 6006  # 6006 or any port you want\n",
    "\"\"\""
   ]
  },
  {
   "cell_type": "code",
   "execution_count": 16,
   "metadata": {},
   "outputs": [
    {
     "name": "stdout",
     "output_type": "stream",
     "text": [
      "5\n"
     ]
    }
   ],
   "source": [
    "import tensorflow as tf \n",
    "\n",
    "a = tf.constant(2, name='a')\n",
    "b = tf.constant(3, name='b')\n",
    "x = tf.add(a, b, name='add')\n",
    "\n",
    "writer = tf.summary.FileWriter('./graphs', tf.get_default_graph())\n",
    "\n",
    "with tf.Session() as sess:\n",
    "    print(sess.run(x))"
   ]
  },
  {
   "cell_type": "markdown",
   "metadata": {},
   "source": [
    "### Constant"
   ]
  },
  {
   "cell_type": "code",
   "execution_count": 17,
   "metadata": {},
   "outputs": [
    {
     "name": "stdout",
     "output_type": "stream",
     "text": [
      "[[0 2]\n [4 6]]\n"
     ]
    }
   ],
   "source": [
    "import tensorflow as tf \n",
    "\n",
    "a = tf.constant([2, 2], name='a')\n",
    "b = tf.constant([[0, 1], [2, 3]], name='b')\n",
    "x = tf.multiply(a, b, name='mul')\n",
    "\n",
    "with tf.Session() as sess:\n",
    "    print(sess.run(x))"
   ]
  },
  {
   "cell_type": "code",
   "execution_count": 18,
   "metadata": {},
   "outputs": [
    {
     "name": "stdout",
     "output_type": "stream",
     "text": [
      "[[0 0 0]\n [0 0 0]]\n"
     ]
    }
   ],
   "source": [
    "import tensorflow as tf\n",
    "\n",
    "a = tf.zeros([2, 3], tf.int32)\n",
    "\n",
    "with tf.Session() as sess:\n",
    "    print(sess.run(a))"
   ]
  },
  {
   "cell_type": "code",
   "execution_count": 19,
   "metadata": {},
   "outputs": [
    {
     "name": "stdout",
     "output_type": "stream",
     "text": [
      "[[8 8 8]\n [8 8 8]]\n"
     ]
    }
   ],
   "source": [
    "import tensorflow as tf \n",
    "\n",
    "a_fill = tf.fill([2, 3], 8)\n",
    "\n",
    "with tf.Session() as sess:\n",
    "    print(sess.run(a_fill))"
   ]
  },
  {
   "cell_type": "code",
   "execution_count": 20,
   "metadata": {},
   "outputs": [
    {
     "name": "stdout",
     "output_type": "stream",
     "text": [
      "a_lin = [10. 11. 12. 13.]\na_rg1 = [ 3  6  9 12 15]\na_rg2 = [0 1 2 3 4]\n"
     ]
    }
   ],
   "source": [
    "a_lin = tf.lin_space(10.0, 13.0, 4)\n",
    "a_rg1 = tf.range(3, 18, 3)\n",
    "a_rg2 = tf.range(5)\n",
    "\n",
    "with tf.Session() as sess:\n",
    "    print('a_lin = {}'.format(sess.run(a_lin)))\n",
    "    print('a_rg1 = {}'.format(sess.run(a_rg1)))\n",
    "    print('a_rg2 = {}'.format(sess.run(a_rg2)))"
   ]
  },
  {
   "cell_type": "code",
   "execution_count": 22,
   "metadata": {},
   "outputs": [
    {
     "name": "stdout",
     "output_type": "stream",
     "text": [
      "zeros_like = 0\nones_like = 1\n"
     ]
    }
   ],
   "source": [
    "import tensorflow as tf \n",
    "\n",
    "t_0d = 19\n",
    "a = tf.zeros_like(t_0d)\n",
    "b = tf.ones_like(t_0d)\n",
    "\n",
    "with tf.Session() as sess:\n",
    "    print(\"zeros_like = {}\".format(sess.run(a)))\n",
    "    print(\"ones_like = {}\".format(sess.run(b)))"
   ]
  },
  {
   "cell_type": "code",
   "execution_count": 23,
   "metadata": {},
   "outputs": [
    {
     "name": "stdout",
     "output_type": "stream",
     "text": [
      "a = [[False False False]\n [False False False]\n [False False False]]\nb = [[ True  True  True]\n [ True  True  True]\n [ True  True  True]]\n"
     ]
    }
   ],
   "source": [
    "t_2d = [[True, False, False],\n",
    "        [False, False, True],\n",
    "        [False, True, False]]\n",
    "\n",
    "a = tf.zeros_like(t_2d)\n",
    "b = tf.ones_like(t_2d)\n",
    "\n",
    "with tf.Session() as sess:\n",
    "    print(\"a = {}\".format(sess.run(a)))\n",
    "    print(\"b = {}\".format(sess.run(b)))"
   ]
  },
  {
   "cell_type": "markdown",
   "metadata": {},
   "source": [
    "### print the graph def"
   ]
  },
  {
   "cell_type": "code",
   "execution_count": 24,
   "metadata": {},
   "outputs": [],
   "source": [
    "my_const = tf.constant([1.0, 2.0], name='my_const')\n",
    "\n",
    "with tf.Session() as sess:\n",
    "    print(sess.graph.as_graph_def())"
   ]
  },
  {
   "cell_type": "markdown",
   "metadata": {},
   "source": [
    "### Init variables"
   ]
  },
  {
   "cell_type": "code",
   "execution_count": null,
   "metadata": {},
   "outputs": [],
   "source": [
    "s = tf.get_variable('scalar', initializer=tf.constant(2))\n",
    "m = tf.get_variable('matrix', initializer=tf.constant([[0, 1], [2, 3]]))\n",
    "W = tf.get_variable('big_matrix', shape=(784, 10), initializer=tf.zeros_initializer())\n",
    "\n",
    "# init all variables\n",
    "with tf.Session() as sess:\n",
    "    init_op = tf.global_variables_initializer()\n",
    "    sess.run(init_op)\n",
    "    \n",
    "# init a subset of variables\n",
    "with tf.Session() as sess:\n",
    "    init_op = tf.variables_initializer([s, m])\n",
    "    \n",
    "# init a single variable\n",
    "with tf.Session() as sess:\n",
    "    sess.run(W.initializer)"
   ]
  },
  {
   "cell_type": "markdown",
   "metadata": {},
   "source": [
    "### eval()"
   ]
  },
  {
   "cell_type": "code",
   "execution_count": 25,
   "metadata": {},
   "outputs": [
    {
     "name": "stdout",
     "output_type": "stream",
     "text": [
      "[[ 0.10399167 -0.69239116 -0.08605107 ... -0.745488    0.71715546\n  -0.5817648 ]\n [-0.32825926 -0.96562445  0.37092894 ... -1.1366675   1.5661988\n   0.5501632 ]\n [ 0.66950953  0.3321359   1.2843357  ... -0.5516824  -0.9335099\n   0.1032984 ]\n ...\n [ 0.6123584  -1.755268    0.18156879 ...  0.9707897  -1.5216535\n  -0.27090156]\n [-0.6479692   0.12597033 -0.01425168 ...  0.14701861  0.22243348\n   0.80876994]\n [-0.3695642   1.1874684   0.27899435 ... -0.10850231 -1.1420717\n  -0.5229709 ]]\n"
     ]
    }
   ],
   "source": [
    "W = tf.Variable(tf.truncated_normal([700, 10]))\n",
    "\n",
    "with tf.Session() as sess:\n",
    "    sess.run(W.initializer)\n",
    "    print(W.eval())"
   ]
  },
  {
   "cell_type": "markdown",
   "metadata": {},
   "source": [
    "### assign()"
   ]
  },
  {
   "cell_type": "code",
   "execution_count": 26,
   "metadata": {},
   "outputs": [
    {
     "name": "stdout",
     "output_type": "stream",
     "text": [
      "10\n100\n"
     ]
    }
   ],
   "source": [
    "W = tf.Variable(10)\n",
    "W.assign(100)\n",
    "with tf.Session() as sess:\n",
    "    sess.run(W.initializer)\n",
    "    print(W.eval())\n",
    "    \n",
    "W1 = tf.Variable(10)\n",
    "assign_op = W1.assign(100)\n",
    "with tf.Session() as sess:\n",
    "    sess.run(W1.initializer)\n",
    "    sess.run(assign_op)\n",
    "    print(W1.eval())"
   ]
  },
  {
   "cell_type": "code",
   "execution_count": 27,
   "metadata": {},
   "outputs": [
    {
     "name": "stdout",
     "output_type": "stream",
     "text": [
      "4\n8\n16\n"
     ]
    }
   ],
   "source": [
    "my_var = tf.Variable(2, name='my_var')\n",
    "\n",
    "my_var_times_two = my_var.assign(2 * my_var)\n",
    "\n",
    "with tf.Session() as sess:\n",
    "    sess.run(my_var.initializer)\n",
    "    print(sess.run(my_var_times_two))\n",
    "    print(sess.run(my_var_times_two))\n",
    "    print(sess.run(my_var_times_two))"
   ]
  },
  {
   "cell_type": "markdown",
   "metadata": {},
   "source": [
    "### assign_add  assign_sub"
   ]
  },
  {
   "cell_type": "code",
   "execution_count": 28,
   "metadata": {},
   "outputs": [
    {
     "name": "stdout",
     "output_type": "stream",
     "text": [
      "20\n18\n"
     ]
    }
   ],
   "source": [
    "my_var = tf.Variable(10)\n",
    "\n",
    "with tf.Session() as sess:\n",
    "    sess.run(my_var.initializer)\n",
    "    \n",
    "    print(sess.run(my_var.assign_add(10)))\n",
    "    print(sess.run(my_var.assign_sub(2)))"
   ]
  },
  {
   "cell_type": "markdown",
   "metadata": {},
   "source": [
    "### diffrent sessions"
   ]
  },
  {
   "cell_type": "code",
   "execution_count": 29,
   "metadata": {},
   "outputs": [
    {
     "name": "stdout",
     "output_type": "stream",
     "text": [
      "20\n8\n120\n-42\n"
     ]
    }
   ],
   "source": [
    "W = tf.Variable(10)\n",
    "sess1 = tf.Session()\n",
    "sess2 = tf.Session()\n",
    "\n",
    "sess1.run(W.initializer)\n",
    "sess2.run(W.initializer)\n",
    "\n",
    "print(sess1.run(W.assign_add(10)))\n",
    "print(sess2.run(W.assign_sub(2)))\n",
    "\n",
    "print(sess1.run(W.assign_add(100)))\n",
    "print(sess2.run(W.assign_sub(50)))\n",
    "\n",
    "sess1.close()\n",
    "sess2.close()"
   ]
  },
  {
   "cell_type": "markdown",
   "metadata": {},
   "source": [
    "### Placeholder"
   ]
  },
  {
   "cell_type": "code",
   "execution_count": 30,
   "metadata": {},
   "outputs": [
    {
     "name": "stdout",
     "output_type": "stream",
     "text": [
      "[6. 7. 8.]\n"
     ]
    }
   ],
   "source": [
    "a = tf.placeholder(tf.float32, shape=[3])\n",
    "b = tf.constant([5, 5, 5], tf.float32)\n",
    "c = a + b\n",
    "\n",
    "with tf.Session() as sess:\n",
    "    print(sess.run(c, {a:[1, 2, 3]}))"
   ]
  },
  {
   "cell_type": "code",
   "execution_count": 31,
   "metadata": {},
   "outputs": [
    {
     "name": "stdout",
     "output_type": "stream",
     "text": [
      "b = 45\n"
     ]
    }
   ],
   "source": [
    "a = tf.add(2, 5)\n",
    "b = tf.multiply(a, 3)\n",
    "\n",
    "with tf.Session() as sess:\n",
    "    b = sess.run(b, feed_dict={a: 15})\n",
    "    print('b = {}'.format(b))"
   ]
  },
  {
   "cell_type": "markdown",
   "metadata": {},
   "source": [
    "### lazy load"
   ]
  },
  {
   "cell_type": "code",
   "execution_count": 32,
   "metadata": {},
   "outputs": [],
   "source": [
    "x = tf.Variable(10, name='x')\n",
    "y = tf.Variable(20, name='y')\n",
    "\n",
    "writer = tf.summary.FileWriter('./graphs', tf.get_default_graph())\n",
    "with tf.Session() as sess:\n",
    "    sess.run(tf.global_variables_initializer())\n",
    "    \n",
    "    for _ in range(10):\n",
    "        sess.run(tf.add(x, y))\n",
    "        \n",
    "    writer.close()"
   ]
  },
  {
   "cell_type": "markdown",
   "metadata": {},
   "source": [
    "### tf.variable_scope()"
   ]
  },
  {
   "cell_type": "code",
   "execution_count": null,
   "metadata": {},
   "outputs": [],
   "source": [
    "def two_hidden_layer(x):\n",
    "    assert x.shape.as_list() == [200, 100]\n",
    "    w1 = tf.get_variable('h1_weights', [100, 50], initializer=tf.random_normal_initializer())\n",
    "    b1 = tf.get_variable('h1_biases', [50], initializer=tf.constant_initializer(0.0))\n",
    "    h1 = tf.matmul(x, w1) + b1\n",
    "    \n",
    "    assert h1.shape.as_list() == [200, 50]\n",
    "    w2 = tf.get_variable('h2_weights', [50, 10], initializer=tf.random_normal_initializer())\n",
    "    b2 = tf.get_variable('h2_biases', [10], initializer=tf.constant_initializer(0.0))\n",
    "    logits = tf.matmul(h1, w2) + b2\n",
    "    \n",
    "    return logits\n",
    "\n",
    "with tf.variable_scope('two_layers') as scope:\n",
    "    logits1 = two_hidden_layer(x1)\n",
    "    scope.reuse_variables()\n",
    "    logits2 = two_hidden_layer(x2)\n",
    "    "
   ]
  },
  {
   "cell_type": "code",
   "execution_count": null,
   "metadata": {},
   "outputs": [],
   "source": [
    "def fully_connected(x, output_dim, scope):\n",
    "    with tf.variable_scope(scope, reuse=tf.AUTO_REUSE) as scope:\n",
    "        w = tf.get_variable('weights', [x.shape[1], output_dim], initializer=tf.random_normal_initializer())\n",
    "        b = tf.get_variable('biases', [output_dim], initializer=tf.constant_initializer(0.0))\n",
    "        \n",
    "def two_hidden_layers(x):\n",
    "    h1 = fully_connected(x, 50, 'h1')\n",
    "    h2 = fully_connected(h1, 10, 'h2')\n",
    "    \n",
    "with tf.variable_scope('two_layers') as scope:\n",
    "    logits1 = two_hidden_layer(x1)\n",
    "    logits2 = two_hidden_layer(x2)"
   ]
  },
  {
   "cell_type": "markdown",
   "metadata": {},
   "source": [
    "### Train Save Restore"
   ]
  },
  {
   "cell_type": "code",
   "execution_count": null,
   "metadata": {},
   "outputs": [],
   "source": [
    "# Save\n",
    "\n",
    "# define model\n",
    "model = ...\n",
    "saver = tf.train.Saver()\n",
    "\n",
    "with tf.Session() as sess:\n",
    "    for step in range(training_steps):\n",
    "        sess.run([optimizer])\n",
    "        \n",
    "        if (step + 1) % 1000 == 0:\n",
    "            saver.save(sess, 'checkpoint_dir/model_name', global_step=step)"
   ]
  },
  {
   "cell_type": "code",
   "execution_count": null,
   "metadata": {},
   "outputs": [],
   "source": [
    "# global step\n",
    "global_step = tf.Variable(0, dtype=tf.int32, trainable=False, name='global_step')\n",
    "optimizer = tf.train.AdamOptimizer(lr).minimize(loss, global_step=global_step)"
   ]
  },
  {
   "cell_type": "code",
   "execution_count": null,
   "metadata": {},
   "outputs": [],
   "source": [
    "# save certain variables\n",
    "\n",
    "v1 = tf.Variable(..., name='v1')\n",
    "v2 = tf.Variable(..., name='v2')\n",
    "\n",
    "saver = tf.train.Saver({'v1':v1, 'v2':v2})\n",
    "\n",
    "saver = tf.train.Saver({v1, v2})\n",
    "\n",
    "saver = tf.train.Saver({v.op.name: v for v in [v1, v2]})"
   ]
  },
  {
   "cell_type": "code",
   "execution_count": null,
   "metadata": {},
   "outputs": [],
   "source": [
    "# restore\n",
    "\n",
    "saver.restore(sess, 'checkpoints/name_of_the_checkpoint')\n",
    "\n",
    "ckpt = tf.train.get_checkpoint_state(os.path.dirname('checkpoints/checkpoint'))\n",
    "if ckpt and ckpt.model_checkpoint_path:\n",
    "    saver.restore(sess, ckpt.model_checkpoint_path)"
   ]
  },
  {
   "cell_type": "markdown",
   "metadata": {},
   "source": [
    "### tf.summary()"
   ]
  },
  {
   "cell_type": "code",
   "execution_count": null,
   "metadata": {},
   "outputs": [],
   "source": [
    "with tf.name_scope('summary'):\n",
    "    tf.summary.scalar('loss', self.loss)\n",
    "    tf.summary.scalar('accuracy', self.accuracy)\n",
    "    tf.summary.histogram('histogram loss', self.loss)\n",
    "    summary_op = tf.summary.merge_all()\n",
    "    \n",
    "    saver = tf.train.Saver()\n",
    "    \n",
    "    with tf.Session() as sess:\n",
    "        sess.run(tf.global_variables_initializer())\n",
    "        ckpt = tf.train.get_checkpoint_state(os.path.dirname('checkpoints/checkpiont'))\n",
    "        if ckpt and ckpt.model_checkpoint_path:\n",
    "            saver.restore(sess, ckpt.model_checkpoint_path)\n",
    "            \n",
    "        writer = tf.summary.FileWriter('./graphs', sess.graph)\n",
    "        \n",
    "        for index in range(100000):\n",
    "            ...\n",
    "            loss_batch, _, summary = sess.run([loss, optimizer, summary_op])\n",
    "            writer.add_summary(summary, global_step=step)\n",
    "            \n",
    "            if (index + 1) % 1000 == 0:\n",
    "                saver.save(sess, 'checkpoints/model_name', index)"
   ]
  },
  {
   "cell_type": "code",
   "execution_count": null,
   "metadata": {},
   "outputs": [],
   "source": []
  },
  {
   "cell_type": "code",
   "execution_count": null,
   "metadata": {},
   "outputs": [],
   "source": []
  }
 ],
 "metadata": {
  "kernelspec": {
   "display_name": "Python 2",
   "language": "python",
   "name": "python2"
  },
  "language_info": {
   "codemirror_mode": {
    "name": "ipython",
    "version": 2
   },
   "file_extension": ".py",
   "mimetype": "text/x-python",
   "name": "python",
   "nbconvert_exporter": "python",
   "pygments_lexer": "ipython2",
   "version": "2.7.6"
  }
 },
 "nbformat": 4,
 "nbformat_minor": 0
}
