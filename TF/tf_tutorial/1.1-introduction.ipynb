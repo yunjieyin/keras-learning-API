{
 "cells": [
  {
   "cell_type": "code",
   "execution_count": 3,
   "metadata": {
    "collapsed": true
   },
   "outputs": [
    {
     "name": "stdout",
     "output_type": "stream",
     "text": [
      "0 [-0.42200145] [0.7882228]\n20 [-0.05092334] [0.37951794]\n40 [0.06265444] [0.31967652]\n60 [0.09075893] [0.3048689]\n80"
     ]
    },
    {
     "name": "stdout",
     "output_type": "stream",
     "text": [
      " [0.09771333] [0.3012048]\n100 [0.09943416] [0.30029815]\n120 [0.09985998] [0.3000738]\n140 [0.09996536] [0.30001825]\n160 [0.09999141] [0.30000454]\n180 [0.09999789] [0.30000114]\n200 [0.09999949] [0.30000028]\n"
     ]
    }
   ],
   "source": [
    "# fit line\n",
    "\n",
    "import tensorflow as tf \n",
    "import numpy as np\n",
    "\n",
    "x_data = np.random.rand(100).astype(\"float32\")\n",
    "y_data = x_data * 0.1 + 0.3\n",
    "\n",
    "W = tf.Variable(tf.random_uniform([1], -1.0, 1.0))\n",
    "b = tf.Variable(tf.zeros([1]))\n",
    "y = W * x_data + b\n",
    "\n",
    "# loss \n",
    "loss = tf.reduce_mean(tf.square(y - y_data))\n",
    "optimizer = tf.train.GradientDescentOptimizer(0.5)\n",
    "train = optimizer.minimize(loss)\n",
    "\n",
    "# init variables\n",
    "#init = tf.initialize_all_variables()\n",
    "init = tf.global_variables_initializer()\n",
    "\n",
    "# session\n",
    "sess = tf.Session()\n",
    "sess.run(init)\n",
    "\n",
    "# fit line\n",
    "for step in range(201):\n",
    "    sess.run(train)\n",
    "    if step % 20 == 0:\n",
    "        print(step, sess.run(W), sess.run(b))"
   ]
  },
  {
   "cell_type": "code",
   "execution_count": 6,
   "metadata": {},
   "outputs": [
    {
     "name": "stdout",
     "output_type": "stream",
     "text": [
      "[[12.]]\n[[12.]]\nuse gpu-> res = [[12.]]\n"
     ]
    }
   ],
   "source": [
    "# basics\n",
    "\n",
    "import tensorflow as tf \n",
    "\n",
    "matrix1 = tf.constant([[3., 3.]])\n",
    "matrix2 = tf.constant([[2.], [2.]])\n",
    "product = tf.matmul(matrix1, matrix2)\n",
    "\n",
    "# open session run default graph\n",
    "sess = tf.Session()\n",
    "res = sess.run(product)\n",
    "print(res)\n",
    "\n",
    "sess.close()\n",
    "\n",
    "# or with session\n",
    "with tf.Session() as sess:\n",
    "    res = sess.run(product)\n",
    "    print(res)\n",
    "    \n",
    "# use cpu or Gpu\n",
    "with tf.Session() as sess:\n",
    "    with tf.device('/gpu:0'):\n",
    "        matrix1 = tf.constant([[3., 3.]])\n",
    "        matrix2 = tf.constant([[2.], [2.]])\n",
    "        product = tf.matmul(matrix1, matrix2)\n",
    "        res = sess.run(product)\n",
    "        print(\"use gpu-> res = {}\".format(res))"
   ]
  },
  {
   "cell_type": "markdown",
   "metadata": {},
   "source": [
    "### Interactive Session"
   ]
  },
  {
   "cell_type": "code",
   "execution_count": 8,
   "metadata": {},
   "outputs": [
    {
     "name": "stdout",
     "output_type": "stream",
     "text": [
      "[-2. -1.]\n"
     ]
    },
    {
     "name": "stderr",
     "output_type": "stream",
     "text": [
      "D:\\Apps\\anaconda\\envs\\tensorflow\\lib\\site-packages\\tensorflow\\python\\client\\session.py:1645: UserWarning: An interactive session is already active. This can cause out-of-memory errors in some cases. You must explicitly call `InteractiveSession.close()` to release resources held by the other session(s).\n  warnings.warn('An interactive session is already active. This can '\n"
     ]
    }
   ],
   "source": [
    "# Interactive session\n",
    "\n",
    "import tensorflow as tf \n",
    "\n",
    "sess = tf.InteractiveSession()\n",
    "x = tf.Variable([1.0, 2.0])\n",
    "a = tf.constant([3.0, 3.0])\n",
    "\n",
    "x.initializer.run()\n",
    "sub = tf.subtract(x, a)\n",
    "\n",
    "print(sub.eval())\n",
    "\n",
    "sess.close()"
   ]
  },
  {
   "cell_type": "markdown",
   "metadata": {},
   "source": [
    "### Tensors"
   ]
  },
  {
   "cell_type": "code",
   "execution_count": 12,
   "metadata": {},
   "outputs": [
    {
     "name": "stdout",
     "output_type": "stream",
     "text": [
      "state = 0\n\n\n1\n2\n3\n"
     ]
    }
   ],
   "source": [
    "# Variable\n",
    "\n",
    "import tensorflow as tf \n",
    "state = tf.Variable(0, name='counter')\n",
    "one = tf.constant(1)\n",
    "\n",
    "new_value = tf.add(state, one)\n",
    "up_date = tf.assign(state, new_value)\n",
    "\n",
    "init = tf.global_variables_initializer()\n",
    "with tf.Session() as sess:\n",
    "    sess.run(init)\n",
    "    print(\"state = {}\".format(sess.run(state)))\n",
    "    \n",
    "    print(\"\\n\")\n",
    "    for _ in range(3):\n",
    "        sess.run(up_date)\n",
    "        print(sess.run(state))"
   ]
  },
  {
   "cell_type": "code",
   "execution_count": 15,
   "metadata": {},
   "outputs": [
    {
     "name": "stdout",
     "output_type": "stream",
     "text": [
      "res_mul \t = 21.0\nres_intermed = 7.0\n"
     ]
    }
   ],
   "source": [
    "# Fetches\n",
    "\n",
    "import tensorflow as tf \n",
    "\n",
    "input1 = tf.constant(3.0)\n",
    "input2 = tf.constant(2.0)\n",
    "input3 = tf.constant(5.0)\n",
    "intermed = tf.add(input2, input3)\n",
    "mul = tf.multiply(input1, intermed)\n",
    "\n",
    "with tf.Session() as sess:\n",
    "    res_mul, res_intermed = sess.run([mul, intermed])\n",
    "    print(\"res_mul = {}\".format(res_mul))\n",
    "    print(\"res_intermed = {}\".format(res_intermed))"
   ]
  },
  {
   "cell_type": "code",
   "execution_count": 16,
   "metadata": {},
   "outputs": [
    {
     "name": "stdout",
     "output_type": "stream",
     "text": [
      "[array([14.], dtype=float32)]\n"
     ]
    }
   ],
   "source": [
    "# Feeds\n",
    "\n",
    "import tensorflow as tf \n",
    "\n",
    "input1 = tf.placeholder(tf.float32)\n",
    "input2 = tf.placeholder(tf.float32)\n",
    "output = tf.multiply(input1, input2)\n",
    "\n",
    "with tf.Session() as sess:\n",
    "    print(sess.run([output],feed_dict={input1: [7.0], input2: [2.0]}))"
   ]
  }
 ],
 "metadata": {
  "kernelspec": {
   "display_name": "Python 2",
   "language": "python",
   "name": "python2"
  },
  "language_info": {
   "codemirror_mode": {
    "name": "ipython",
    "version": 2
   },
   "file_extension": ".py",
   "mimetype": "text/x-python",
   "name": "python",
   "nbconvert_exporter": "python",
   "pygments_lexer": "ipython2",
   "version": "2.7.6"
  }
 },
 "nbformat": 4,
 "nbformat_minor": 0
}
